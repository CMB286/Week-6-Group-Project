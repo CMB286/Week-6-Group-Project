{
 "cells": [
  {
   "cell_type": "code",
   "execution_count": 5,
   "metadata": {},
   "outputs": [
    {
     "name": "stdin",
     "output_type": "stream",
     "text": [
      "Enter your name:  Caleb\n",
      "Enter your age in years:  18\n",
      "Enter an amount of years:  2\n"
     ]
    },
    {
     "name": "stdout",
     "output_type": "stream",
     "text": [
      "Caleb will be 20 in 2 years.\n"
     ]
    }
   ],
   "source": [
    "name = input(\"Enter your name: \")\n",
    "age = int(input(\"Enter your age in years: \"))\n",
    "\n",
    "ageInYears = int(input(\"Enter an amount of years: \"))\n",
    "\n",
    "totalAge = (age + ageInYears)\n",
    "\n",
    "print(name + \" will be \" + str(totalAge) + \" in \" + str(ageInYears) + \" years!\")"
   ]
  }
 ],
 "metadata": {
  "kernelspec": {
   "display_name": "Python 3.7",
   "language": "python",
   "name": "python3"
  },
  "language_info": {
   "codemirror_mode": {
    "name": "ipython",
    "version": 3
   },
   "file_extension": ".py",
   "mimetype": "text/x-python",
   "name": "python",
   "nbconvert_exporter": "python",
   "pygments_lexer": "ipython3",
   "version": "3.7.0"
  }
 },
 "nbformat": 4,
 "nbformat_minor": 2
}
