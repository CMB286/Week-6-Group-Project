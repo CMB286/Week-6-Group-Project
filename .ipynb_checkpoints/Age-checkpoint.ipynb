{
 "cells": [
  {
   "cell_type": "code",
   "execution_count": null,
   "metadata": {},
   "outputs": [],
   "source": [
    "name = input(\"Enter your name: \")\n",
    "age = int(input(\"Enter your age in years: \"))\n",
    "\n",
    "ageInYears = int(input(\"Enter an amount of years: \"))\n",
    "\n",
    "olderAge = (age + ageInYears)\n",
    "youngerAge = (age - ageInYears);\n",
    "\n",
    "print(name + \" will be \" + str(olderAge) + \" in \" + str(ageInYears) + \" years\")\n",
    "\n",
    "if youngerAge > 0:\n",
    "    print(str(ageInYears) + \" years ago, you were \" + str(youngerAge) +\" years old\")\n",
    "else:\n",
    "    print(str(ageInYears) +\" years ago, you weren't even born!\")\n"
   ]
  }
 ],
 "metadata": {
  "kernelspec": {
   "display_name": "Python 3.7",
   "language": "python",
   "name": "python3"
  },
  "language_info": {
   "codemirror_mode": {
    "name": "ipython",
    "version": 3
   },
   "file_extension": ".py",
   "mimetype": "text/x-python",
   "name": "python",
   "nbconvert_exporter": "python",
   "pygments_lexer": "ipython3",
   "version": "3.7.0"
  }
 },
 "nbformat": 4,
 "nbformat_minor": 2
}
